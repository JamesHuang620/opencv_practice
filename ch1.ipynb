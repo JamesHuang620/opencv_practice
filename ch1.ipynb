{
 "cells": [
  {
   "cell_type": "markdown",
   "metadata": {},
   "source": [
    "# Ch1.2.1"
   ]
  },
  {
   "cell_type": "code",
   "execution_count": 1,
   "metadata": {},
   "outputs": [],
   "source": [
    "import cv2 as cv"
   ]
  },
  {
   "cell_type": "markdown",
   "metadata": {},
   "source": [
    "## imread:讀取檔案, cv.imread(filename[, flags]), flags(0:灰階)"
   ]
  },
  {
   "cell_type": "code",
   "execution_count": 2,
   "metadata": {},
   "outputs": [
    {
     "name": "stdout",
     "output_type": "stream",
     "text": [
      "[[[141 175 169]\n",
      "  [124 160 154]\n",
      "  [117 159 152]\n",
      "  ...\n",
      "  [135 201 189]\n",
      "  [139 205 193]\n",
      "  [147 213 201]]\n",
      "\n",
      " [[166 198 193]\n",
      "  [165 199 193]\n",
      "  [164 205 198]\n",
      "  ...\n",
      "  [127 193 181]\n",
      "  [130 196 184]\n",
      "  [136 202 190]]\n",
      "\n",
      " [[183 210 206]\n",
      "  [183 213 208]\n",
      "  [170 206 200]\n",
      "  ...\n",
      "  [124 188 176]\n",
      "  [124 188 176]\n",
      "  [129 193 181]]\n",
      "\n",
      " ...\n",
      "\n",
      " [[ 27  87  76]\n",
      "  [ 28  88  77]\n",
      "  [ 28  88  77]\n",
      "  ...\n",
      "  [199 240 233]\n",
      "  [112 146 140]\n",
      "  [  0  22  17]]\n",
      "\n",
      " [[ 29  89  78]\n",
      "  [ 29  89  78]\n",
      "  [ 29  89  78]\n",
      "  ...\n",
      "  [217 255 249]\n",
      "  [136 168 163]\n",
      "  [ 13  43  38]]\n",
      "\n",
      " [[ 29  89  78]\n",
      "  [ 29  89  78]\n",
      "  [ 30  90  79]\n",
      "  ...\n",
      "  [219 255 251]\n",
      "  [157 187 182]\n",
      "  [ 45  72  68]]]\n"
     ]
    }
   ],
   "source": [
    "lena = cv.imread(r\"images\\warter_2019111510224188280.png\")\n",
    "print(lena)"
   ]
  },
  {
   "cell_type": "markdown",
   "metadata": {},
   "source": [
    "# Ch1.2.2"
   ]
  },
  {
   "cell_type": "markdown",
   "metadata": {},
   "source": [
    "* 沒有三四行的話會產生error\n",
    "  * waitKey內可輸入毫秒作為等待時間(沒輸入及持續等待)\n",
    "  * ord('q'):輸入q則 關閉視窗"
   ]
  },
  {
   "cell_type": "code",
   "execution_count": 3,
   "metadata": {},
   "outputs": [],
   "source": [
    "cv.namedWindow(\"lesson\")\n",
    "cv.imshow(\"lesson\", lena)\n",
    "if cv.waitKey() == ord('q'):\n",
    "    cv.destroyAllWindows()"
   ]
  },
  {
   "cell_type": "code",
   "execution_count": null,
   "metadata": {},
   "outputs": [],
   "source": []
  }
 ],
 "metadata": {
  "kernelspec": {
   "display_name": "Python 3.10.8 ('.venv': venv)",
   "language": "python",
   "name": "python3"
  },
  "language_info": {
   "codemirror_mode": {
    "name": "ipython",
    "version": 3
   },
   "file_extension": ".py",
   "mimetype": "text/x-python",
   "name": "python",
   "nbconvert_exporter": "python",
   "pygments_lexer": "ipython3",
   "version": "3.10.8"
  },
  "orig_nbformat": 4,
  "vscode": {
   "interpreter": {
    "hash": "875dca8f330bee522c47fe5464dc9c2c4c74ca20d787ee592ca9d13a600f80c6"
   }
  }
 },
 "nbformat": 4,
 "nbformat_minor": 2
}
